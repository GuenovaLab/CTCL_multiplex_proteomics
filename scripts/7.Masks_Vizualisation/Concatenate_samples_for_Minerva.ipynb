{
 "cells": [
  {
   "cell_type": "code",
   "execution_count": 1,
   "id": "1d934766",
   "metadata": {},
   "outputs": [],
   "source": [
    "import numpy as np\n",
    "import tifffile as tiff\n",
    "from PIL import Image\n",
    "import os\n",
    "import re\n",
    "import math"
   ]
  },
  {
   "cell_type": "code",
   "execution_count": 2,
   "id": "57028d81",
   "metadata": {},
   "outputs": [],
   "source": [
    "output_dir = \"../output/Minerva_story/Merged/\"\n",
    "output_temporary = \"../output/Minerva_story/Merged/temp\"\n",
    "if not os.path.isdir(output_temporary):\n",
    "    os.mkdir(output_temporary)\n",
    "input_image_dir = \"../output/input/\"\n",
    "input_segmentation_dir = \"../output/segmentation/\"\n"
   ]
  },
  {
   "cell_type": "code",
   "execution_count": 3,
   "id": "6a0fb01b",
   "metadata": {},
   "outputs": [],
   "source": [
    "sample_list = dict(HD = {\"ROI-13\", \"ROI-28\"},\n",
    "                  AD = {\"ROI-09\", \"ROI-15\"},\n",
    "                  PS = {\"ROI-04\", \"ROI-16\"},\n",
    "                  LP = {\"ROI-08\", \"ROI-24\"},\n",
    "                  MF = {\"ROI-06\", \"ROI-23\", \"ROI-12\", \"ROI-27\"}, \n",
    "                  SS = {\"ROI-05\", \"ROI-11\", \"ROI-17\", \"ROI-22\"}\n",
    "                  )\n",
    "all_samp = sorted({x for v in sample_list.values() for x in v})"
   ]
  },
  {
   "cell_type": "code",
   "execution_count": 4,
   "id": "79085456",
   "metadata": {},
   "outputs": [],
   "source": [
    "markers = (\"DAPI\", \"Cytokeratin\", \"Actin\", \"Podoplanin\", \"CD3\", \"CD4\", \"CD8a\", \"FoxP3\",\n",
    "           \"CD14\", \"HLADR\", \"CD68\", \"CD11b\", \"CD123\", \"CD79a\", \"CD57\", \"FcepsilonRIalpha\", \"CollagenI\",\n",
    "           \"Bcl2\", \"CD2\", \"CD5\", \"Galectin3\", \"Galectin9\", \"HLAABC\", \"CLA\", \"CD195\", \"CD196\", \"CD1c\"\n",
    "          )"
   ]
  },
  {
   "cell_type": "code",
   "execution_count": 25,
   "id": "cf5229af",
   "metadata": {},
   "outputs": [],
   "source": [
    "##########################################################################\n",
    "# Padding and resizing\n",
    "##########################################################################"
   ]
  },
  {
   "cell_type": "code",
   "execution_count": 5,
   "id": "70c8e966",
   "metadata": {},
   "outputs": [],
   "source": [
    "def load_and_pad_image(image_path, target_size=(8000, 7000)):\n",
    "    image = Image.open(image_path)\n",
    "    image_array = np.array(image)\n",
    "    \n",
    "    # Create a black (zero) image of the target size\n",
    "    padded_image = np.zeros(target_size, dtype=image_array.dtype)\n",
    "    \n",
    "    # Get the dimensions of the original image\n",
    "    original_height, original_width = image_array.shape\n",
    "    \n",
    "    # Place the original image at the top-left corner of the padded image\n",
    "    padded_image[:original_height, :original_width] = image_array\n",
    "    \n",
    "    return padded_image"
   ]
  },
  {
   "cell_type": "code",
   "execution_count": 27,
   "id": "da00decb",
   "metadata": {},
   "outputs": [],
   "source": [
    "## Markers"
   ]
  },
  {
   "cell_type": "code",
   "execution_count": 56,
   "id": "5a79b9e8",
   "metadata": {},
   "outputs": [],
   "source": [
    "options = {\n",
    "        'compression': 'zlib'  # Apply compression\n",
    "    }\n",
    "\n",
    "for marker in markers:\n",
    "    for sample in all_samp:\n",
    "        \n",
    "        image_path = os.path.join(input_image_dir, sample, marker + \".tiff\")\n",
    "        padded_image = load_and_pad_image(image_path)\n",
    "        padded_image = (padded_image / (256)).astype(np.uint8)\n",
    "\n",
    "        if not os.path.isdir(os.path.join(output_temporary, sample)):\n",
    "            os.mkdir(os.path.join(output_temporary, sample))\n",
    "        \n",
    "        tiff.imwrite(os.path.join(output_temporary, sample, marker + \".tiff\"), padded_image, **options)"
   ]
  },
  {
   "cell_type": "code",
   "execution_count": 11,
   "id": "62e0e6e1",
   "metadata": {},
   "outputs": [
    {
     "data": {
      "text/plain": [
       "['ROI-04',\n",
       " 'ROI-05',\n",
       " 'ROI-06',\n",
       " 'ROI-08',\n",
       " 'ROI-09',\n",
       " 'ROI-11',\n",
       " 'ROI-12',\n",
       " 'ROI-13',\n",
       " 'ROI-15',\n",
       " 'ROI-16',\n",
       " 'ROI-17',\n",
       " 'ROI-22',\n",
       " 'ROI-23',\n",
       " 'ROI-24',\n",
       " 'ROI-27',\n",
       " 'ROI-28']"
      ]
     },
     "execution_count": 11,
     "metadata": {},
     "output_type": "execute_result"
    }
   ],
   "source": [
    "all_samp"
   ]
  },
  {
   "cell_type": "code",
   "execution_count": null,
   "id": "fa3aa4ef",
   "metadata": {
    "scrolled": true
   },
   "outputs": [],
   "source": [
    "## Segmentation + convert to uint32"
   ]
  },
  {
   "cell_type": "code",
   "execution_count": 6,
   "id": "5ba09618",
   "metadata": {},
   "outputs": [],
   "source": [
    "for sample in all_samp:        \n",
    "\n",
    "    num = 1000000 * np.uint32(re.sub(\"ROI-0|ROI-\", \"\", sample))\n",
    "\n",
    "    image_path = os.path.join(input_segmentation_dir, sample + \"_whole_cell.tiff\")\n",
    "    padded_image = load_and_pad_image(image_path)\n",
    "    padded_image[padded_image > 0] = padded_image[padded_image > 0] + num\n",
    "    padded_image = padded_image.astype(np.uint32)\n",
    "    \n",
    "    tiff.imwrite(os.path.join(output_temporary, sample,  sample + \"_whole_cell.tiff\"), padded_image)"
   ]
  },
  {
   "cell_type": "code",
   "execution_count": null,
   "id": "c0d28e12",
   "metadata": {
    "scrolled": true
   },
   "outputs": [],
   "source": []
  },
  {
   "cell_type": "code",
   "execution_count": 32,
   "id": "b5084534",
   "metadata": {},
   "outputs": [],
   "source": [
    "##########################################################################\n",
    "# Concatenating images on a grid\n",
    "##########################################################################"
   ]
  },
  {
   "cell_type": "code",
   "execution_count": 7,
   "id": "1c21108a",
   "metadata": {},
   "outputs": [],
   "source": [
    "def concatenate_images(images, grid_shape=(4, 4), image_size=(8000, 7000)):\n",
    "    # Create an empty array for the concatenated grid\n",
    "    concatenated_image = np.zeros((grid_shape[0] * image_size[0], grid_shape[1] * image_size[1]), dtype=images[0].dtype)\n",
    "    \n",
    "    for idx, img in enumerate(images):\n",
    "        row = idx // grid_shape[1]\n",
    "        col = idx % grid_shape[1]\n",
    "        concatenated_image[row*image_size[0]:(row+1)*image_size[0], col*image_size[1]:(col+1)*image_size[1]] = img\n",
    "    \n",
    "    return concatenated_image\n",
    "\n"
   ]
  },
  {
   "cell_type": "code",
   "execution_count": 8,
   "id": "f60158d0",
   "metadata": {},
   "outputs": [],
   "source": [
    "def save_tiff(image, output_path, axes='CYX', channel_names=None, compression='zlib'):\n",
    "    options = {\n",
    "        'metadata': {'axes': axes, 'Channel': [{'Name': name} for name in channel_names]},\n",
    "        'compression': compression\n",
    "    }\n",
    "    tiff.imwrite(output_path, image, **options)"
   ]
  },
  {
   "cell_type": "code",
   "execution_count": 46,
   "id": "2c5f40d8",
   "metadata": {},
   "outputs": [],
   "source": [
    "## Markers"
   ]
  },
  {
   "cell_type": "code",
   "execution_count": 74,
   "id": "ed5fdb5e",
   "metadata": {
    "scrolled": true
   },
   "outputs": [],
   "source": [
    "options = {\n",
    "        'compression': 'zlib'  # Apply compression\n",
    "    }\n",
    " \n",
    "all_concatenated_images = []\n",
    "for marker in markers:\n",
    "    images = []\n",
    "    for sample in all_samp:\n",
    "        image_path = os.path.join(output_temporary, sample, marker + \".tiff\")\n",
    "        image = tiff.imread(image_path)\n",
    "        images.append(image)\n",
    "    \n",
    "    concatenated_image = concatenate_images(images)\n",
    "    # max_value = concatenated_image.max()\n",
    "    # max_value = np.quantile(a=concatenated_image, q = 0.99)\n",
    "    # concatenated_image[concatenated_image > max_value] = max_value\n",
    "    # concatenated_image = concatenated_image * (255 / max_value)\n",
    "    concatenated_image = concatenated_image.astype(np.uint8)\n",
    "\n",
    "   \n",
    "    tiff.imwrite(os.path.join(output_dir,  marker + \".tif\"), concatenated_image, **options)\n",
    "    "
   ]
  },
  {
   "cell_type": "code",
   "execution_count": 13,
   "id": "b8677283",
   "metadata": {},
   "outputs": [
    {
     "data": {
      "text/plain": [
       "['ROI-04',\n",
       " 'ROI-05',\n",
       " 'ROI-06',\n",
       " 'ROI-08',\n",
       " 'ROI-09',\n",
       " 'ROI-11',\n",
       " 'ROI-12',\n",
       " 'ROI-13',\n",
       " 'ROI-15',\n",
       " 'ROI-16',\n",
       " 'ROI-17',\n",
       " 'ROI-22',\n",
       " 'ROI-23',\n",
       " 'ROI-24',\n",
       " 'ROI-27',\n",
       " 'ROI-28']"
      ]
     },
     "execution_count": 13,
     "metadata": {},
     "output_type": "execute_result"
    }
   ],
   "source": [
    "all_samp"
   ]
  },
  {
   "cell_type": "code",
   "execution_count": 72,
   "id": "42c198cc",
   "metadata": {},
   "outputs": [
    {
     "data": {
      "text/plain": [
       "array([  0,   1,   2,   3,   4,   5,   6,   7,   8,   9,  10,  11,  12,\n",
       "        13,  14,  15,  16,  17,  18,  19,  20,  21,  22,  23,  24,  25,\n",
       "        26,  27,  28,  29,  30,  31,  32,  33,  34,  35,  36,  37,  38,\n",
       "        39,  40,  41,  42,  43,  44,  45,  46,  47,  48,  49,  51,  52,\n",
       "        53,  54,  55,  56,  57,  58,  59,  60,  61,  62,  63,  64,  65,\n",
       "        66,  67,  68,  69,  70,  71,  72,  73,  74,  75,  76,  77,  78,\n",
       "        79,  80,  81,  82,  83,  84,  85,  86,  87,  88,  89,  90,  91,\n",
       "        92,  93,  94,  95,  96,  97,  98,  99, 100, 102, 103, 104, 105,\n",
       "       106, 107, 108, 109, 110, 111, 112, 113, 114, 115, 116, 117, 118,\n",
       "       119, 120, 121, 122, 123, 124, 125, 126, 127, 128, 129, 130, 131,\n",
       "       132, 133, 134, 135, 136, 137, 138, 139, 140, 141, 142, 143, 144,\n",
       "       145, 146, 147, 148, 149, 150, 151, 153, 154, 155, 156, 157, 158,\n",
       "       159, 160, 161, 162, 163, 164, 165, 166, 167, 168, 169, 170, 171,\n",
       "       172, 173, 174, 175, 176, 177, 178, 179, 180, 181, 182, 183, 184,\n",
       "       185, 186, 187, 188, 189, 190, 191, 192, 193, 194, 196, 197, 198,\n",
       "       199, 200, 201, 202, 204, 205, 206, 207, 208, 209, 210, 211, 212,\n",
       "       213, 214, 215, 216, 217, 218, 219, 220, 221, 222, 223, 224, 225,\n",
       "       226, 227, 228, 229, 231, 232, 233, 234, 235, 236, 237, 238, 239,\n",
       "       240, 242, 243, 244, 245, 246, 247, 248, 249, 250, 251, 252, 253,\n",
       "       255], dtype=uint8)"
      ]
     },
     "execution_count": 72,
     "metadata": {},
     "output_type": "execute_result"
    }
   ],
   "source": [
    "\n"
   ]
  },
  {
   "cell_type": "code",
   "execution_count": 12,
   "id": "5e063ab8",
   "metadata": {},
   "outputs": [
    {
     "data": {
      "text/plain": [
       "['ROI-04',\n",
       " 'ROI-05',\n",
       " 'ROI-06',\n",
       " 'ROI-08',\n",
       " 'ROI-09',\n",
       " 'ROI-11',\n",
       " 'ROI-12',\n",
       " 'ROI-13',\n",
       " 'ROI-15',\n",
       " 'ROI-16',\n",
       " 'ROI-17',\n",
       " 'ROI-22',\n",
       " 'ROI-23',\n",
       " 'ROI-24',\n",
       " 'ROI-27',\n",
       " 'ROI-28']"
      ]
     },
     "execution_count": 12,
     "metadata": {},
     "output_type": "execute_result"
    }
   ],
   "source": [
    "all_samp"
   ]
  },
  {
   "cell_type": "code",
   "execution_count": 33,
   "id": "18b2675d",
   "metadata": {},
   "outputs": [],
   "source": [
    "## Segmentation"
   ]
  },
  {
   "cell_type": "code",
   "execution_count": 9,
   "id": "06d3f703",
   "metadata": {},
   "outputs": [],
   "source": [
    "options = {\n",
    "        'compression': 'zlib'  # Apply compression\n",
    "    }\n",
    "\n",
    "segmentations = []\n",
    "for sample in all_samp:\n",
    "    image_path = os.path.join(output_temporary, sample, sample + \"_whole_cell.tiff\")\n",
    "    image = tiff.imread(image_path)\n",
    "    segmentations.append(image)\n",
    "    \n",
    "concatenated_segmentation = concatenate_images(segmentations)\n",
    "tiff.imwrite(os.path.join(output_dir, \"whole_cell.tif\"), concatenated_segmentation, **options)\n"
   ]
  },
  {
   "cell_type": "code",
   "execution_count": null,
   "id": "edb6016c",
   "metadata": {},
   "outputs": [],
   "source": [
    "save_as_ome_tiff(concatenated_segmentation, os.path.join(output_dir, \"whole_cell.ome.tif\"))"
   ]
  },
  {
   "cell_type": "code",
   "execution_count": null,
   "id": "291c0743",
   "metadata": {},
   "outputs": [],
   "source": []
  },
  {
   "cell_type": "code",
   "execution_count": null,
   "id": "54a629ba",
   "metadata": {},
   "outputs": [],
   "source": []
  },
  {
   "cell_type": "code",
   "execution_count": null,
   "id": "fe16df65",
   "metadata": {},
   "outputs": [],
   "source": []
  },
  {
   "cell_type": "code",
   "execution_count": null,
   "id": "70fafb00",
   "metadata": {},
   "outputs": [],
   "source": []
  },
  {
   "cell_type": "code",
   "execution_count": 10,
   "id": "e6cf2ecb",
   "metadata": {},
   "outputs": [],
   "source": [
    "def save_as_ome_tiff(image, output_path, axes='CYX', channel_names=None, compression='zlib'):\n",
    "    options = {\n",
    "        'metadata': {'axes': axes, 'Channel': [{'Name': name} for name in channel_names]},\n",
    "        'compression': compression\n",
    "    }\n",
    "    tiff.imwrite(output_path, image, **options)\n"
   ]
  },
  {
   "cell_type": "code",
   "execution_count": 31,
   "id": "790a138c",
   "metadata": {},
   "outputs": [
    {
     "ename": "FileNotFoundError",
     "evalue": "[Errno 2] No such file or directory: '/mnt/RECHERCHE/GUENOVA_LAB/Project_Multiplex_Phenotyping/Miltenyi/Muliplex_Imaging_Pipeline/output/Snapshots/scheme_minerva_2.tiff'",
     "output_type": "error",
     "traceback": [
      "\u001b[0;31m---------------------------------------------------------------------------\u001b[0m",
      "\u001b[0;31mFileNotFoundError\u001b[0m                         Traceback (most recent call last)",
      "\u001b[0;32m/tmp/ipykernel_53653/3810949510.py\u001b[0m in \u001b[0;36m?\u001b[0;34m()\u001b[0m\n\u001b[0;32m----> 1\u001b[0;31m \u001b[0mbig_tiff\u001b[0m \u001b[0;34m=\u001b[0m \u001b[0mtiff\u001b[0m\u001b[0;34m.\u001b[0m\u001b[0mimread\u001b[0m\u001b[0;34m(\u001b[0m\u001b[0;34m\"../output/Snapshots/scheme_minerva_2.tiff\"\u001b[0m\u001b[0;34m)\u001b[0m\u001b[0;34m\u001b[0m\u001b[0;34m\u001b[0m\u001b[0m\n\u001b[0m\u001b[1;32m      2\u001b[0m \u001b[0;34m\u001b[0m\u001b[0m\n",
      "\u001b[0;32m~/anaconda3/envs/napari-env2/lib/python3.9/site-packages/tifffile/tifffile.py\u001b[0m in \u001b[0;36m?\u001b[0;34m(files, selection, aszarr, key, series, level, squeeze, maxworkers, mode, name, offset, size, pattern, axesorder, categories, imread, sort, container, chunkshape, dtype, axestiled, ioworkers, chunkmode, fillvalue, zattrs, multiscales, omexml, out, out_inplace, _multifile, _useframes, **kwargs)\u001b[0m\n\u001b[1;32m   1090\u001b[0m \u001b[0;34m\u001b[0m\u001b[0m\n\u001b[1;32m   1091\u001b[0m         if isinstance(files, str) or not isinstance(\n\u001b[1;32m   1092\u001b[0m             \u001b[0mfiles\u001b[0m\u001b[0;34m,\u001b[0m \u001b[0mcollections\u001b[0m\u001b[0;34m.\u001b[0m\u001b[0mabc\u001b[0m\u001b[0;34m.\u001b[0m\u001b[0mSequence\u001b[0m\u001b[0;34m\u001b[0m\u001b[0;34m\u001b[0m\u001b[0m\n\u001b[1;32m   1093\u001b[0m         ):\n\u001b[0;32m-> 1094\u001b[0;31m             with TiffFile(\n\u001b[0m\u001b[1;32m   1095\u001b[0m                 \u001b[0mfiles\u001b[0m\u001b[0;34m,\u001b[0m\u001b[0;34m\u001b[0m\u001b[0;34m\u001b[0m\u001b[0m\n\u001b[1;32m   1096\u001b[0m                 \u001b[0mmode\u001b[0m\u001b[0;34m=\u001b[0m\u001b[0mmode\u001b[0m\u001b[0;34m,\u001b[0m\u001b[0;34m\u001b[0m\u001b[0;34m\u001b[0m\u001b[0m\n\u001b[1;32m   1097\u001b[0m                 \u001b[0mname\u001b[0m\u001b[0;34m=\u001b[0m\u001b[0mname\u001b[0m\u001b[0;34m,\u001b[0m\u001b[0;34m\u001b[0m\u001b[0;34m\u001b[0m\u001b[0m\n",
      "\u001b[0;32m~/anaconda3/envs/napari-env2/lib/python3.9/site-packages/tifffile/tifffile.py\u001b[0m in \u001b[0;36m?\u001b[0;34m(self, file, mode, name, offset, size, omexml, _multifile, _useframes, _parent, **is_flags)\u001b[0m\n\u001b[1;32m   4031\u001b[0m \u001b[0;34m\u001b[0m\u001b[0m\n\u001b[1;32m   4032\u001b[0m         \u001b[0;32mif\u001b[0m \u001b[0mmode\u001b[0m \u001b[0;32mnot\u001b[0m \u001b[0;32min\u001b[0m \u001b[0;34m{\u001b[0m\u001b[0;32mNone\u001b[0m\u001b[0;34m,\u001b[0m \u001b[0;34m'r'\u001b[0m\u001b[0;34m,\u001b[0m \u001b[0;34m'r+'\u001b[0m\u001b[0;34m,\u001b[0m \u001b[0;34m'rb'\u001b[0m\u001b[0;34m,\u001b[0m \u001b[0;34m'r+b'\u001b[0m\u001b[0;34m}\u001b[0m\u001b[0;34m:\u001b[0m\u001b[0;34m\u001b[0m\u001b[0;34m\u001b[0m\u001b[0m\n\u001b[1;32m   4033\u001b[0m             \u001b[0;32mraise\u001b[0m \u001b[0mValueError\u001b[0m\u001b[0;34m(\u001b[0m\u001b[0;34mf'invalid mode {mode!r}'\u001b[0m\u001b[0;34m)\u001b[0m\u001b[0;34m\u001b[0m\u001b[0;34m\u001b[0m\u001b[0m\n\u001b[1;32m   4034\u001b[0m \u001b[0;34m\u001b[0m\u001b[0m\n\u001b[0;32m-> 4035\u001b[0;31m         \u001b[0mfh\u001b[0m \u001b[0;34m=\u001b[0m \u001b[0mFileHandle\u001b[0m\u001b[0;34m(\u001b[0m\u001b[0mfile\u001b[0m\u001b[0;34m,\u001b[0m \u001b[0mmode\u001b[0m\u001b[0;34m=\u001b[0m\u001b[0mmode\u001b[0m\u001b[0;34m,\u001b[0m \u001b[0mname\u001b[0m\u001b[0;34m=\u001b[0m\u001b[0mname\u001b[0m\u001b[0;34m,\u001b[0m \u001b[0moffset\u001b[0m\u001b[0;34m=\u001b[0m\u001b[0moffset\u001b[0m\u001b[0;34m,\u001b[0m \u001b[0msize\u001b[0m\u001b[0;34m=\u001b[0m\u001b[0msize\u001b[0m\u001b[0;34m)\u001b[0m\u001b[0;34m\u001b[0m\u001b[0;34m\u001b[0m\u001b[0m\n\u001b[0m\u001b[1;32m   4036\u001b[0m         \u001b[0mself\u001b[0m\u001b[0;34m.\u001b[0m\u001b[0m_fh\u001b[0m \u001b[0;34m=\u001b[0m \u001b[0mfh\u001b[0m\u001b[0;34m\u001b[0m\u001b[0;34m\u001b[0m\u001b[0m\n\u001b[1;32m   4037\u001b[0m         \u001b[0mself\u001b[0m\u001b[0;34m.\u001b[0m\u001b[0m_multifile\u001b[0m \u001b[0;34m=\u001b[0m \u001b[0;32mTrue\u001b[0m \u001b[0;32mif\u001b[0m \u001b[0m_multifile\u001b[0m \u001b[0;32mis\u001b[0m \u001b[0;32mNone\u001b[0m \u001b[0;32melse\u001b[0m \u001b[0mbool\u001b[0m\u001b[0;34m(\u001b[0m\u001b[0m_multifile\u001b[0m\u001b[0;34m)\u001b[0m\u001b[0;34m\u001b[0m\u001b[0;34m\u001b[0m\u001b[0m\n\u001b[1;32m   4038\u001b[0m         \u001b[0mself\u001b[0m\u001b[0;34m.\u001b[0m\u001b[0m_files\u001b[0m \u001b[0;34m=\u001b[0m \u001b[0;34m{\u001b[0m\u001b[0mfh\u001b[0m\u001b[0;34m.\u001b[0m\u001b[0mname\u001b[0m\u001b[0;34m:\u001b[0m \u001b[0mself\u001b[0m\u001b[0;34m}\u001b[0m\u001b[0;34m\u001b[0m\u001b[0;34m\u001b[0m\u001b[0m\n",
      "\u001b[0;32m~/anaconda3/envs/napari-env2/lib/python3.9/site-packages/tifffile/tifffile.py\u001b[0m in \u001b[0;36m?\u001b[0;34m(self, file, mode, name, offset, size)\u001b[0m\n\u001b[1;32m  14016\u001b[0m         \u001b[0mself\u001b[0m\u001b[0;34m.\u001b[0m\u001b[0m_offset\u001b[0m \u001b[0;34m=\u001b[0m \u001b[0;34m-\u001b[0m\u001b[0;36m1\u001b[0m \u001b[0;32mif\u001b[0m \u001b[0moffset\u001b[0m \u001b[0;32mis\u001b[0m \u001b[0;32mNone\u001b[0m \u001b[0;32melse\u001b[0m \u001b[0moffset\u001b[0m\u001b[0;34m\u001b[0m\u001b[0;34m\u001b[0m\u001b[0m\n\u001b[1;32m  14017\u001b[0m         \u001b[0mself\u001b[0m\u001b[0;34m.\u001b[0m\u001b[0m_size\u001b[0m \u001b[0;34m=\u001b[0m \u001b[0;34m-\u001b[0m\u001b[0;36m1\u001b[0m \u001b[0;32mif\u001b[0m \u001b[0msize\u001b[0m \u001b[0;32mis\u001b[0m \u001b[0;32mNone\u001b[0m \u001b[0;32melse\u001b[0m \u001b[0msize\u001b[0m\u001b[0;34m\u001b[0m\u001b[0;34m\u001b[0m\u001b[0m\n\u001b[1;32m  14018\u001b[0m         \u001b[0mself\u001b[0m\u001b[0;34m.\u001b[0m\u001b[0m_close\u001b[0m \u001b[0;34m=\u001b[0m \u001b[0;32mTrue\u001b[0m\u001b[0;34m\u001b[0m\u001b[0;34m\u001b[0m\u001b[0m\n\u001b[1;32m  14019\u001b[0m         \u001b[0mself\u001b[0m\u001b[0;34m.\u001b[0m\u001b[0m_lock\u001b[0m \u001b[0;34m=\u001b[0m \u001b[0mNullContext\u001b[0m\u001b[0;34m(\u001b[0m\u001b[0;34m)\u001b[0m\u001b[0;34m\u001b[0m\u001b[0;34m\u001b[0m\u001b[0m\n\u001b[0;32m> 14020\u001b[0;31m         \u001b[0mself\u001b[0m\u001b[0;34m.\u001b[0m\u001b[0mopen\u001b[0m\u001b[0;34m(\u001b[0m\u001b[0;34m)\u001b[0m\u001b[0;34m\u001b[0m\u001b[0;34m\u001b[0m\u001b[0m\n\u001b[0m\u001b[1;32m  14021\u001b[0m         \u001b[0;32massert\u001b[0m \u001b[0mself\u001b[0m\u001b[0;34m.\u001b[0m\u001b[0m_fh\u001b[0m \u001b[0;32mis\u001b[0m \u001b[0;32mnot\u001b[0m \u001b[0;32mNone\u001b[0m\u001b[0;34m\u001b[0m\u001b[0;34m\u001b[0m\u001b[0m\n",
      "\u001b[0;32m~/anaconda3/envs/napari-env2/lib/python3.9/site-packages/tifffile/tifffile.py\u001b[0m in \u001b[0;36m?\u001b[0;34m(self)\u001b[0m\n\u001b[1;32m  14031\u001b[0m         \u001b[0;32mif\u001b[0m \u001b[0misinstance\u001b[0m\u001b[0;34m(\u001b[0m\u001b[0mself\u001b[0m\u001b[0;34m.\u001b[0m\u001b[0m_file\u001b[0m\u001b[0;34m,\u001b[0m \u001b[0mstr\u001b[0m\u001b[0;34m)\u001b[0m\u001b[0;34m:\u001b[0m\u001b[0;34m\u001b[0m\u001b[0;34m\u001b[0m\u001b[0m\n\u001b[1;32m  14032\u001b[0m             \u001b[0;31m# file name\u001b[0m\u001b[0;34m\u001b[0m\u001b[0;34m\u001b[0m\u001b[0m\n\u001b[1;32m  14033\u001b[0m             \u001b[0mself\u001b[0m\u001b[0;34m.\u001b[0m\u001b[0m_file\u001b[0m \u001b[0;34m=\u001b[0m \u001b[0mos\u001b[0m\u001b[0;34m.\u001b[0m\u001b[0mpath\u001b[0m\u001b[0;34m.\u001b[0m\u001b[0mrealpath\u001b[0m\u001b[0;34m(\u001b[0m\u001b[0mself\u001b[0m\u001b[0;34m.\u001b[0m\u001b[0m_file\u001b[0m\u001b[0;34m)\u001b[0m\u001b[0;34m\u001b[0m\u001b[0;34m\u001b[0m\u001b[0m\n\u001b[1;32m  14034\u001b[0m             \u001b[0mself\u001b[0m\u001b[0;34m.\u001b[0m\u001b[0m_dir\u001b[0m\u001b[0;34m,\u001b[0m \u001b[0mself\u001b[0m\u001b[0;34m.\u001b[0m\u001b[0m_name\u001b[0m \u001b[0;34m=\u001b[0m \u001b[0mos\u001b[0m\u001b[0;34m.\u001b[0m\u001b[0mpath\u001b[0m\u001b[0;34m.\u001b[0m\u001b[0msplit\u001b[0m\u001b[0;34m(\u001b[0m\u001b[0mself\u001b[0m\u001b[0;34m.\u001b[0m\u001b[0m_file\u001b[0m\u001b[0;34m)\u001b[0m\u001b[0;34m\u001b[0m\u001b[0;34m\u001b[0m\u001b[0m\n\u001b[0;32m> 14035\u001b[0;31m             self._fh = open(\n\u001b[0m\u001b[1;32m  14036\u001b[0m                 \u001b[0mself\u001b[0m\u001b[0;34m.\u001b[0m\u001b[0m_file\u001b[0m\u001b[0;34m,\u001b[0m \u001b[0mself\u001b[0m\u001b[0;34m.\u001b[0m\u001b[0m_mode\u001b[0m\u001b[0;34m,\u001b[0m \u001b[0mencoding\u001b[0m\u001b[0;34m=\u001b[0m\u001b[0;32mNone\u001b[0m\u001b[0;34m\u001b[0m\u001b[0;34m\u001b[0m\u001b[0m\n\u001b[1;32m  14037\u001b[0m             )  # type: ignore\n\u001b[1;32m  14038\u001b[0m             \u001b[0mself\u001b[0m\u001b[0;34m.\u001b[0m\u001b[0m_close\u001b[0m \u001b[0;34m=\u001b[0m \u001b[0;32mTrue\u001b[0m\u001b[0;34m\u001b[0m\u001b[0;34m\u001b[0m\u001b[0m\n",
      "\u001b[0;31mFileNotFoundError\u001b[0m: [Errno 2] No such file or directory: '/mnt/RECHERCHE/GUENOVA_LAB/Project_Multiplex_Phenotyping/Miltenyi/Muliplex_Imaging_Pipeline/output/Snapshots/scheme_minerva_2.tiff'"
     ]
    }
   ],
   "source": [
    "big_tiff = tiff.imread(\"../output/Snapshots/scheme_minerva_2.tiff\")\n",
    "\n"
   ]
  },
  {
   "cell_type": "code",
   "execution_count": 19,
   "id": "1dd8c721",
   "metadata": {},
   "outputs": [
    {
     "data": {
      "text/plain": [
       "(19842, 23605, 4)"
      ]
     },
     "execution_count": 19,
     "metadata": {},
     "output_type": "execute_result"
    }
   ],
   "source": [
    "big_tiff.shape"
   ]
  },
  {
   "cell_type": "code",
   "execution_count": 21,
   "id": "a7d1cf98",
   "metadata": {},
   "outputs": [],
   "source": [
    " # Create a black (zero) image of the target size\n",
    "padded_image = np.zeros((32000,28000,4), dtype=big_tiff.dtype)\n",
    "\n"
   ]
  },
  {
   "cell_type": "code",
   "execution_count": 22,
   "id": "9c660ee5",
   "metadata": {
    "scrolled": true
   },
   "outputs": [
    {
     "data": {
      "text/plain": [
       "(32000, 28000, 4)"
      ]
     },
     "execution_count": 22,
     "metadata": {},
     "output_type": "execute_result"
    }
   ],
   "source": [
    "padded_image.shape"
   ]
  },
  {
   "cell_type": "code",
   "execution_count": 24,
   "id": "777f4b4b",
   "metadata": {},
   "outputs": [],
   "source": [
    "# Get the dimensions of the original image\n",
    "original_height, original_width, original_channels = big_tiff.shape\n"
   ]
  },
  {
   "cell_type": "code",
   "execution_count": 25,
   "id": "d5871260",
   "metadata": {},
   "outputs": [],
   "source": [
    "# Place the original image at the top-left corner of the padded image\n",
    "padded_image[:original_height, :original_width, :original_channels] = big_tiff\n"
   ]
  },
  {
   "cell_type": "code",
   "execution_count": 29,
   "id": "9c878c73",
   "metadata": {},
   "outputs": [
    {
     "data": {
      "text/plain": [
       "(32000, 28000, 4)"
      ]
     },
     "execution_count": 29,
     "metadata": {},
     "output_type": "execute_result"
    }
   ],
   "source": [
    "padded_image.shape"
   ]
  },
  {
   "cell_type": "code",
   "execution_count": 28,
   "id": "b2293f44",
   "metadata": {},
   "outputs": [
    {
     "data": {
      "text/plain": [
       "(19842, 23605, 4)"
      ]
     },
     "execution_count": 28,
     "metadata": {},
     "output_type": "execute_result"
    }
   ],
   "source": [
    "big_tiff.shape"
   ]
  },
  {
   "cell_type": "code",
   "execution_count": 30,
   "id": "dbfbee78",
   "metadata": {},
   "outputs": [],
   "source": [
    "save_as_ome_tiff(padded_image, \"../output/Minerva_story/scheme_minerva.ome.tif\", axes = \"YXC\", channel_names=[\"Red\", \"Green\", \"Blue\", \"Alpha\"])"
   ]
  },
  {
   "cell_type": "code",
   "execution_count": null,
   "id": "52ad4817",
   "metadata": {},
   "outputs": [],
   "source": []
  },
  {
   "cell_type": "code",
   "execution_count": null,
   "id": "c68b7990",
   "metadata": {},
   "outputs": [],
   "source": []
  },
  {
   "cell_type": "code",
   "execution_count": null,
   "id": "781d2846",
   "metadata": {},
   "outputs": [],
   "source": []
  },
  {
   "cell_type": "code",
   "execution_count": 28,
   "id": "82d3582e",
   "metadata": {},
   "outputs": [],
   "source": [
    "def resize_image(image, target_size):\n",
    "    return image.resize(target_size, Image.NEAREST)\n",
    "\n",
    "def resize_multi_channel_tiff(input_path, output_path, target_size):\n",
    "    # Load the multi-channel TIFF image\n",
    "    with tiff.TiffFile(input_path) as tif:\n",
    "        image = tif.asarray()\n",
    "    \n",
    "    # Verify the number of channels; ensure it matches the expected dimensions\n",
    "    if image.shape[2] != 4:\n",
    "        raise ValueError(\"Expected a 4-channel image.\")\n",
    "    \n",
    "    # Split the multi-channel image into separate channels\n",
    "    channels = [Image.fromarray(image[:, :, i]) for i in range(4)]\n",
    "    \n",
    "    # Resize each channel\n",
    "    resized_channels = [resize_image(channel, target_size) for channel in channels]\n",
    "    \n",
    "    # Convert resized channels back to numpy arrays\n",
    "    resized_channels = [np.array(channel) for channel in resized_channels]\n",
    "    \n",
    "    # Stack the resized channels along the third axis to recreate the multi-channel image\n",
    "    resized_image = np.stack(resized_channels, axis=2)\n",
    "\n",
    "    # Save the resized multi-channel image as a TIFF file\n",
    "    channel_names=[\"Red\", \"Green\", \"Blue\", \"Alpha\"]\n",
    " \n",
    "    \n",
    "    for i in range(3):\n",
    "        \n",
    "        options = {\n",
    "            'compression': \"zlib\",\n",
    "            'metadata': {\n",
    "                'axes': \"YX\",\n",
    "                'Channel': channel_names[i],\n",
    "            }\n",
    "        }\n",
    "        tiff.imwrite(\"../output/Snapshots/\" + channel_names[i] + \".tif\", resized_image[:,:,i], **options)\n",
    "    \n",
    "    "
   ]
  },
  {
   "cell_type": "code",
   "execution_count": 21,
   "id": "4deda630",
   "metadata": {},
   "outputs": [],
   "source": []
  },
  {
   "cell_type": "code",
   "execution_count": null,
   "id": "d87f3195",
   "metadata": {},
   "outputs": [],
   "source": []
  },
  {
   "cell_type": "code",
   "execution_count": 25,
   "id": "359d85a9",
   "metadata": {},
   "outputs": [
    {
     "data": {
      "text/plain": [
       "(28000, 32000)"
      ]
     },
     "execution_count": 25,
     "metadata": {},
     "output_type": "execute_result"
    }
   ],
   "source": [
    "resized_image[:,:,0].shape"
   ]
  },
  {
   "cell_type": "code",
   "execution_count": null,
   "id": "184e9e15",
   "metadata": {},
   "outputs": [],
   "source": []
  },
  {
   "cell_type": "code",
   "execution_count": null,
   "id": "23a346e1",
   "metadata": {},
   "outputs": [],
   "source": []
  },
  {
   "cell_type": "code",
   "execution_count": 29,
   "id": "f068e0bc",
   "metadata": {},
   "outputs": [],
   "source": [
    "input_path = '/home/localadmin/scheme_minerva_2.tiff'\n",
    "output_path = '../output/Snapshots/scheme_minerva_3_resized.ome.tif'\n",
    "target_size = (32000, 28000)"
   ]
  },
  {
   "cell_type": "code",
   "execution_count": 30,
   "id": "8048b951",
   "metadata": {
    "scrolled": true
   },
   "outputs": [],
   "source": [
    "resize_multi_channel_tiff(input_path, output_path, target_size)"
   ]
  },
  {
   "cell_type": "code",
   "execution_count": 16,
   "id": "ae2af817",
   "metadata": {},
   "outputs": [
    {
     "name": "stderr",
     "output_type": "stream",
     "text": [
      "<tifffile.TiffFile 'Scheme.ome.tif'> ImageJ series metadata invalid or corrupted file\n"
     ]
    }
   ],
   "source": [
    "image = tiff.imread(\"../output/Snapshots/Scheme.ome.tif\")"
   ]
  },
  {
   "cell_type": "code",
   "execution_count": 20,
   "id": "b047cb2e",
   "metadata": {
    "scrolled": true
   },
   "outputs": [
    {
     "data": {
      "text/plain": [
       "array([[[255, 255, 255, ..., 255, 255, 255],\n",
       "        [255, 255, 255, ..., 255, 255, 255],\n",
       "        [255, 255, 255, ..., 255, 255, 255],\n",
       "        ...,\n",
       "        [255, 255, 255, ..., 255, 255, 255],\n",
       "        [255, 255, 255, ..., 255, 255, 255],\n",
       "        [255, 255, 255, ..., 255, 255, 255]],\n",
       "\n",
       "       [[255, 255, 255, ..., 255, 255, 255],\n",
       "        [255, 255, 255, ..., 255, 255, 255],\n",
       "        [255, 255, 255, ..., 255, 255, 255],\n",
       "        ...,\n",
       "        [255, 255, 255, ..., 255, 255, 255],\n",
       "        [255, 255, 255, ..., 255, 255, 255],\n",
       "        [255, 255, 255, ..., 255, 255, 255]],\n",
       "\n",
       "       [[255, 255, 255, ..., 255, 255, 255],\n",
       "        [255, 255, 255, ..., 255, 255, 255],\n",
       "        [255, 255, 255, ..., 255, 255, 255],\n",
       "        ...,\n",
       "        [  0,   0,   0, ...,   0,   0,   0],\n",
       "        [  0,   0,   0, ...,   0,   0,   0],\n",
       "        [  0,   0,   0, ...,   0,   0,   0]]], dtype=uint8)"
      ]
     },
     "execution_count": 20,
     "metadata": {},
     "output_type": "execute_result"
    }
   ],
   "source": [
    "image"
   ]
  }
 ],
 "metadata": {
  "kernelspec": {
   "display_name": "Python 3 (ipykernel)",
   "language": "python",
   "name": "python3"
  },
  "language_info": {
   "codemirror_mode": {
    "name": "ipython",
    "version": 3
   },
   "file_extension": ".py",
   "mimetype": "text/x-python",
   "name": "python",
   "nbconvert_exporter": "python",
   "pygments_lexer": "ipython3",
   "version": "3.9.16"
  }
 },
 "nbformat": 4,
 "nbformat_minor": 5
}
