{
 "cells": [
  {
   "cell_type": "code",
   "execution_count": null,
   "id": "7280a37c",
   "metadata": {},
   "outputs": [],
   "source": [
    "import sys\n",
    "sys.path.append(\".\")\n",
    "from torch.utils.tensorboard import SummaryWriter\n",
    "import os\n",
    "import torch\n",
    "import argparse\n",
    "import numpy as np\n",
    "import json\n",
    "import os\n",
    "import pandas as pd\n",
    "import numpy as np\n",
    "from tifffile import imread\n",
    "import random\n",
    "import cv2\n",
    "import tifffile\n",
    "from skimage import exposure\n",
    "import matplotlib\n",
    "import matplotlib.pyplot as plt\n",
    "import numpy as np\n",
    "import re\n",
    "from skimage import data, img_as_float\n",
    "from skimage import exposure\n",
    "import qnorm\n",
    "import random"
   ]
  },
  {
   "cell_type": "code",
   "execution_count": null,
   "id": "7fa9d306",
   "metadata": {},
   "outputs": [],
   "source": [
    "output_dir = \"../output/CellSighter/celltype/\"\n",
    "cell_marker_file = \"../annotation/cell_markers.csv\"\n",
    "tiff_dir = \"../output/input/\"\n",
    "segmentation_dir  = \"../output/segmentation/\"\n",
    "cell_table_dir  = \"../output/cell_table/\""
   ]
  },
  {
   "cell_type": "code",
   "execution_count": null,
   "id": "1b62b88d",
   "metadata": {},
   "outputs": [],
   "source": []
  },
  {
   "cell_type": "code",
   "execution_count": null,
   "id": "e9eecffd",
   "metadata": {},
   "outputs": [],
   "source": []
  },
  {
   "cell_type": "code",
   "execution_count": null,
   "id": "5df9894b",
   "metadata": {},
   "outputs": [],
   "source": [
    "cell_type = pd.read_csv(os.path.join(cell_marker_file))\n",
    "\n",
    "cell_types_unique = cell_type.cell_type[np.sort(np.unique(cell_type.cell_type, return_index=True)[1])]\n",
    "cell_types_unique = np.flip(cell_types_unique)\n",
    "marker_unique = pd.read_csv(os.path.join(output_dir, \"cell_classification\", \"channels.txt\"), header=None)\n",
    "marker_unique = marker_unique[0].values"
   ]
  },
  {
   "cell_type": "code",
   "execution_count": null,
   "id": "ded04a46",
   "metadata": {},
   "outputs": [],
   "source": [
    "mat = np.zeros(shape = (2000,2000, len(os.listdir(tiff_dir)[0:28])))"
   ]
  },
  {
   "cell_type": "code",
   "execution_count": null,
   "id": "19abc65b",
   "metadata": {},
   "outputs": [],
   "source": []
  },
  {
   "cell_type": "code",
   "execution_count": null,
   "id": "4891a7ff",
   "metadata": {
    "scrolled": true
   },
   "outputs": [],
   "source": [
    "# Calculate mat for quantile normalization\n",
    "mat_dict = dict()\n",
    "for marker in marker_unique:\n",
    "    print(marker)\n",
    "    mat = np.zeros(shape = (2000,2000, len(os.listdir(tiff_dir)[0:28])))\n",
    "    i=0\n",
    "    for sample in os.listdir(tiff_dir)[0:28]:\n",
    "        print(sample)\n",
    "        img = imread(os.path.join(os.path.join(tiff_dir, sample, marker + \".tiff\")))\n",
    "        mat[...,i] = img[0:2000,0:2000]\n",
    "        i = i + 1\n",
    "    random.shuffle(mat)\n",
    "    mat = mat.reshape(28*2000*2000)\n",
    "    mat_dict[marker] = mat"
   ]
  },
  {
   "cell_type": "code",
   "execution_count": null,
   "id": "04f3bb7e",
   "metadata": {},
   "outputs": [],
   "source": []
  },
  {
   "cell_type": "code",
   "execution_count": null,
   "id": "2913f552",
   "metadata": {
    "scrolled": true
   },
   "outputs": [],
   "source": [
    "for sample in [\"ROI-23\", \"ROI-27\", \"ROI-59\", \"ROI-60\", \"ROI-61\"]:\n",
    "    print(sample)\n",
    "    if not os.path.exists(output_dir):\n",
    "        os.makedirs(output_dir)\n",
    "    base_dir = os.path.join(output_dir, \"Predictions\")\n",
    "    if not os.path.exists(base_dir):\n",
    "        os.makedirs(base_dir)\n",
    "    cellType_dir = os.path.join(base_dir, \"CellTypes\")\n",
    "    if not os.path.exists(cellType_dir):\n",
    "        os.makedirs(cellType_dir)\n",
    "    cells_dir = os.path.join(cellType_dir, \"cells\")\n",
    "    if not os.path.exists(cells_dir):\n",
    "        os.makedirs(cells_dir)\n",
    "    cells2labels_dir = os.path.join(cellType_dir, \"cells2labels\")\n",
    "    if not os.path.exists(cells2labels_dir):\n",
    "        os.makedirs(cells2labels_dir)\n",
    "    data_dir = os.path.join(cellType_dir, \"data\")\n",
    "    if not os.path.exists(data_dir):\n",
    "        os.makedirs(data_dir)\n",
    "    images_dir =  os.path.join(data_dir, \"images\")\n",
    "    if not os.path.exists(images_dir):\n",
    "        os.makedirs(images_dir)    \n",
    "\n",
    "    whole_cell = imread(os.path.join(segmentation_dir, sample + \"_whole_cell.tiff\"))\n",
    "    np.savez(os.path.join(cells_dir, sample +\".npz\"), data = whole_cell)\n",
    "    \n",
    "    cells = pd.read_csv(os.path.join(cell_table_dir, sample + \"_cell_table_size_normalized.csv.gz\"))\n",
    "    labels = np.zeros(int(max(cells.label)) + 1)\n",
    "    for i in range(len(labels)):\n",
    "        labels[i] = -1\n",
    "    np.savez(os.path.join(cells2labels_dir,  sample + \".npz\"), data = labels)\n",
    "    \n",
    "    # Copy full markers images\n",
    "\n",
    "    all_markers = []\n",
    "    # Load the markers \n",
    "    for marker in marker_unique:\n",
    "        print(marker)\n",
    "        \n",
    "        \n",
    "        if os.path.isfile(os.path.join(tiff_dir, sample, marker + \".tiff\")):\n",
    "            \n",
    "            num = int(re.sub(\".*-\", \"\", sample))\n",
    "            if num > 28:\n",
    "                print(\"Scaling \" + marker + \" !\")\n",
    "                img = imread(os.path.join(os.path.join(tiff_dir, sample, marker + \".tiff\")))\n",
    "                values = img.squeeze().reshape(img.shape[0]*img.shape[1])\n",
    "                mat_quant = mat_dict[marker][0:len(values)]\n",
    "                values_df = pd.DataFrame(values)\n",
    "                mat_quant_df = pd.DataFrame(mat_quant)\n",
    "                norm_values_df = qnorm.quantile_normalize(values_df, target = mat_quant, ncpus=10)\n",
    "                norm_values = norm_values_df[0].values\n",
    "                norm_values = norm_values.astype(int)\n",
    "                marker_image = norm_values.reshape(img.shape[0],img.shape[1])\n",
    "                marker_image = np.int32(marker_image)                      \n",
    "            else:\n",
    "                # Load segmentation \n",
    "                marker_image = imread(os.path.join(tiff_dir, sample, marker + \".tiff\"))\n",
    "\n",
    "\n",
    "            # Save in the \"cells\" folder\n",
    "            all_markers.append(marker_image)\n",
    "        else:\n",
    "            # Load segmentation \n",
    "            marker_image = imread(os.path.join(tiff_dir, sample, \"DAPI\" + \".tiff\"))\n",
    "            marker_image[marker_image>0]=0\n",
    "            # Crop to the right corner region\n",
    "            # marker_cropped = marker_image[y1:y2, x1:x2]\n",
    "\n",
    "            # Save in the \"cells\" folder\n",
    "            all_markers.append(marker_image)\n",
    "\n",
    "\n",
    "    # Combine\n",
    "    all_markers = np.array(all_markers)\n",
    "    all_markers = np.transpose(all_markers, (1, 2, 0))\n",
    "\n",
    "    # Save as npz in the \"data\" folder\n",
    "\n",
    "    np.savez(os.path.join(images_dir,  sample + \".npz\"),  data = all_markers)"
   ]
  }
 ],
 "metadata": {
  "kernelspec": {
   "display_name": "Python 3 (ipykernel)",
   "language": "python",
   "name": "python3"
  },
  "language_info": {
   "codemirror_mode": {
    "name": "ipython",
    "version": 3
   },
   "file_extension": ".py",
   "mimetype": "text/x-python",
   "name": "python",
   "nbconvert_exporter": "python",
   "pygments_lexer": "ipython3",
   "version": "3.9.16"
  }
 },
 "nbformat": 4,
 "nbformat_minor": 5
}
