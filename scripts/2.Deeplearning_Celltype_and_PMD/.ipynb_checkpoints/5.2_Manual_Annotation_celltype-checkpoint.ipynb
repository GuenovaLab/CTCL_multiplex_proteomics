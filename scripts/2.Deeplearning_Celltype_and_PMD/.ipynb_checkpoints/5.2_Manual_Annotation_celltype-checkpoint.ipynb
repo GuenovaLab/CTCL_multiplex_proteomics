{
 "cells": [
  {
   "cell_type": "code",
   "execution_count": null,
   "id": "e5c52178",
   "metadata": {},
   "outputs": [],
   "source": [
    "# Manually annotate cells on Napari using a specific guideline\n",
    "# Saves annotations for each celtype as napari point label .csv (x,y positions)\n",
    "# authors: Pacome Prompsy\n",
    "# contact: pacome.prompsy@chuv.ch\n",
    "# Guenova Lab\n",
    "# CHUV (Centre Hospitalier Universitaire Vaudois), Lausanne, Suisse\n"
   ]
  },
  {
   "cell_type": "code",
   "execution_count": null,
   "id": "dfa8e652",
   "metadata": {},
   "outputs": [],
   "source": [
    "# this cell is required to run these notebooks on Binder\n",
    "# if running on Binder, remember to **WAIT 5 SECONDS** after\n",
    "# running the '%gui qt' cell below. If you get an error,\n",
    "# click on \"Kernel -> Restart\" and try again. Make sure also\n",
    "# that you have a desktop tab open.\n",
    "import os\n",
    "#if 'BINDER_SERVICE_HOST' in os.environ:\n",
    "#    os.environ['DISPLAY'] = ':1.0'"
   ]
  },
  {
   "cell_type": "code",
   "execution_count": null,
   "id": "236922fd",
   "metadata": {},
   "outputs": [],
   "source": [
    "os.environ[\"QT_QPA_PLATFORM\"] = \"wayland\""
   ]
  },
  {
   "cell_type": "code",
   "execution_count": null,
   "id": "b9cdf17f",
   "metadata": {},
   "outputs": [],
   "source": []
  },
  {
   "cell_type": "code",
   "execution_count": null,
   "id": "94e46650",
   "metadata": {},
   "outputs": [],
   "source": [
    "##############################################################################################################\n",
    "##############################################################################################################\n",
    "\n",
    "# CHANGE HERE SAMPLE :\n",
    "sample = \"ROI-29\" # sample number\n",
    "name = \"Annotator\" # person annotating\n",
    "\n",
    "##############################################################################################################\n",
    "##############################################################################################################"
   ]
  },
  {
   "cell_type": "code",
   "execution_count": null,
   "id": "8b6d26a2",
   "metadata": {},
   "outputs": [],
   "source": [
    "import os\n",
    "import pandas as pd\n",
    "import numpy as np\n",
    "from tifffile import imread, imwrite\n",
    "import random\n",
    "import re"
   ]
  },
  {
   "cell_type": "code",
   "execution_count": null,
   "id": "04bc8c73",
   "metadata": {},
   "outputs": [],
   "source": [
    "%gui qt"
   ]
  },
  {
   "cell_type": "code",
   "execution_count": null,
   "id": "3376295e",
   "metadata": {
    "scrolled": true
   },
   "outputs": [],
   "source": [
    "import napari\n",
    "from napari.utils import nbscreenshot\n",
    "\n",
    "# Create an empty viewer\n",
    "viewer = napari.Viewer()"
   ]
  },
  {
   "cell_type": "code",
   "execution_count": null,
   "id": "8e3a536c",
   "metadata": {},
   "outputs": [],
   "source": [
    "# Change below\n",
    "output_dir = \"/home/localadmin/Documents/Multiplex_Phenotyping_Local/output/manual_annotation_celltype/\"\n",
    "cell_marker_file = \"../annotation/cell_markers.csv\"\n",
    "tiff_dir = \"../output/input/\"\n",
    "segmentation_dir  = \"../output/segmentation/\"\n"
   ]
  },
  {
   "cell_type": "code",
   "execution_count": null,
   "id": "0bc52697",
   "metadata": {},
   "outputs": [],
   "source": [
    "save_dir = os.path.join(output_dir, sample + \"-\" + name )\n",
    "if not os.path.exists(save_dir):\n",
    "    os.makedirs(save_dir)\n",
    "    "
   ]
  },
  {
   "cell_type": "code",
   "execution_count": null,
   "id": "9e7f2e5a",
   "metadata": {},
   "outputs": [],
   "source": [
    "cell_type = pd.read_csv(os.path.join(cell_marker_file))\n",
    "\n",
    "cell_types_unique = cell_type.cell_type[np.sort(np.unique(cell_type.cell_type, return_index=True)[1])]\n",
    "cell_types_unique = np.flip(cell_types_unique)\n",
    "\n",
    "marker_unique = cell_type.marker[np.sort(np.unique(cell_type.marker, return_index=True)[1])]\n",
    "marker_unique = np.flip(marker_unique)\n"
   ]
  },
  {
   "cell_type": "code",
   "execution_count": null,
   "id": "b487cdf1",
   "metadata": {},
   "outputs": [],
   "source": [
    "background = imread(os.path.join(os.path.join(tiff_dir, sample, \"DAPI.tiff\")))\n",
    "viewer.add_image(background, name=\"background\", colormap=\"gray\",contrast_limits=[64000, 65000]);\n",
    "\n",
    "DAPI = imread(os.path.join(os.path.join(tiff_dir, sample, \"DAPI.tiff\")))\n",
    "viewer.add_image(DAPI, name=\"DAPI\", colormap=\"gray\",contrast_limits=[5000, 65000]);\n"
   ]
  },
  {
   "cell_type": "code",
   "execution_count": null,
   "id": "c36a1904",
   "metadata": {},
   "outputs": [],
   "source": [
    "for i in cell_types_unique:\n",
    "    df = cell_type[cell_type.cell_type == i]\n",
    "    chain = i\n",
    "    for marker in df.marker:\n",
    "        if marker not in viewer.layers:\n",
    "            color = cell_type.color_map[cell_type.marker == marker].to_list()[0]\n",
    "            min_contrast = cell_type.default_min[cell_type.marker == marker].to_list()[0]\n",
    "            max_contrast = cell_type.default_max[cell_type.marker == marker].to_list()[0]\n",
    "            visible = cell_type.visible[cell_type.marker == marker].to_list()[0]\n",
    "            blending = cell_type.blending[cell_type.marker == marker].to_list()[0]\n",
    "            image = imread(os.path.join(os.path.join(tiff_dir, sample, marker + \".tiff\")))\n",
    "            viewer.add_image(image, name=marker, colormap=color, contrast_limits=[int(min_contrast), int(max_contrast)],\n",
    "                            blending = blending, visible = visible);\n"
   ]
  },
  {
   "cell_type": "code",
   "execution_count": null,
   "id": "8f4ecfaf",
   "metadata": {},
   "outputs": [],
   "source": [
    "from skimage.morphology import label\n",
    "from skimage.segmentation import expand_labels"
   ]
  },
  {
   "cell_type": "code",
   "execution_count": null,
   "id": "b88baff2",
   "metadata": {},
   "outputs": [],
   "source": [
    "cell_boundary = imread(os.path.join(segmentation_dir, sample + \"_whole_cell_segmentation_borders.tiff\"))\n",
    "cell_boundary = label(cell_boundary)\n",
    "cell_boundary = expand_labels(cell_boundary, 2)\n",
    "cell_boundary[cell_boundary>0] = cell_boundary[cell_boundary>0] + 2000 \n",
    "viewer.add_image(cell_boundary, name= sample + \"-Boundary\" , blending= \"additive\", colormap=\"red\");\n"
   ]
  },
  {
   "cell_type": "code",
   "execution_count": null,
   "id": "37a8924a",
   "metadata": {},
   "outputs": [],
   "source": [
    "chains = []\n",
    "for i in cell_types_unique:\n",
    "    \n",
    "    df = cell_type[cell_type.cell_type == i]\n",
    "    chain = i\n",
    "    for marker in df.marker:\n",
    "        if np.asarray(df.positive[df.marker == marker])[0] == True:\n",
    "            chain = chain + str(\"-\") + marker + \"+\"\n",
    "        else:\n",
    "            chain = chain + str(\"-\") + marker + \"-\"\n",
    "    print(chain)\n",
    "    chains = chains + [chain]\n",
    "    viewer.add_points(name=chain, face_color = df.cell_type_color.to_list()[0],\n",
    "                      edge_color = \"#d4c51bff\", edge_width=0.1, opacity=1, size = 30);\n",
    "    viewer.layers[chain].mode = \"add\""
   ]
  },
  {
   "cell_type": "code",
   "execution_count": null,
   "id": "8ca8b57a",
   "metadata": {},
   "outputs": [],
   "source": [
    "segmentation = imread(os.path.join(os.path.join(segmentation_dir, sample + \"_whole_cell_segmentation_borders.tiff\")))\n",
    "viewer.add_labels(segmentation, name=\"cell_types\");"
   ]
  },
  {
   "cell_type": "code",
   "execution_count": null,
   "id": "9117cca2",
   "metadata": {},
   "outputs": [],
   "source": [
    "# Series of shortcut definition to facilitate annotation"
   ]
  },
  {
   "cell_type": "code",
   "execution_count": null,
   "id": "a2a160c2",
   "metadata": {},
   "outputs": [],
   "source": [
    "@viewer.bind_key('Shift-S', overwrite = \"True\")\n",
    "def save_all(viewer):\n",
    "    print(save_dir)\n",
    "    for i in chains:\n",
    "        viewer.layers[i].save(os.path.join( save_dir, i + '.csv'));"
   ]
  },
  {
   "cell_type": "code",
   "execution_count": null,
   "id": "446048a3",
   "metadata": {},
   "outputs": [],
   "source": [
    "# Put True if you are reloading\n",
    "if True:\n",
    "    chains = []\n",
    "    for i in cell_types_unique:\n",
    "\n",
    "        df = cell_type[cell_type.cell_type == i]\n",
    "        chain = i\n",
    "        for marker in df.marker:\n",
    "            if np.asarray(df.positive[df.marker == marker])[0] == True:\n",
    "                chain = chain + str(\"-\") + marker + \"+\"\n",
    "            else:\n",
    "                chain = chain + str(\"-\") + marker + \"-\"\n",
    "        print(chain)\n",
    "        chains = chains + [chain]\n",
    "        viewer.layers[chain].face_color = df.cell_type_color.to_list()[0]\n",
    "        viewer.layers[chain].edge_color = \"#d4c51bff\"\n",
    "        viewer.layers[chain].edge_width = 0.1\n",
    "        viewer.layers[chain].opacity = 1\n",
    "        viewer.layers[chain].size = 30\n"
   ]
  },
  {
   "cell_type": "code",
   "execution_count": null,
   "id": "df3bf86d",
   "metadata": {},
   "outputs": [],
   "source": [
    "@viewer.bind_key('Shift-Q', overwrite = \"True\")\n",
    "def visible_1(viewer):\n",
    "    point = viewer.layers.selection.active\n",
    "    celltype_selected = re.sub(\"-.*\", \"\", point.name)\n",
    "    df = cell_type[cell_type.cell_type == celltype_selected]\n",
    "    markers = df[\"marker\"].to_list()\n",
    "    if len(markers) > 0:\n",
    "        viewer.layers[markers[0]].visible = not viewer.layers[markers[0]].visible"
   ]
  },
  {
   "cell_type": "code",
   "execution_count": null,
   "id": "d2f147c6",
   "metadata": {},
   "outputs": [],
   "source": [
    "@viewer.bind_key('Shift-W', overwrite = \"True\")\n",
    "def visible_1(viewer):\n",
    "    point = viewer.layers.selection.active\n",
    "    celltype_selected = re.sub(\"-.*\", \"\", point.name)\n",
    "    df = cell_type[cell_type.cell_type == celltype_selected]\n",
    "    markers = df[\"marker\"].to_list()\n",
    "    if len(markers) > 1:\n",
    "        viewer.layers[markers[1]].visible = not viewer.layers[markers[1]].visible"
   ]
  },
  {
   "cell_type": "code",
   "execution_count": null,
   "id": "718cfbaa",
   "metadata": {},
   "outputs": [],
   "source": [
    "@viewer.bind_key('Shift-E', overwrite = \"True\")\n",
    "def visible_1(viewer):\n",
    "    point = viewer.layers.selection.active\n",
    "    celltype_selected = re.sub(\"-.*\", \"\", point.name)\n",
    "    df = cell_type[cell_type.cell_type == celltype_selected]\n",
    "    markers = df[\"marker\"].to_list()\n",
    "    if len(markers) > 2:\n",
    "        viewer.layers[markers[2]].visible = not viewer.layers[markers[2]].visible"
   ]
  },
  {
   "cell_type": "code",
   "execution_count": null,
   "id": "b158bf78",
   "metadata": {},
   "outputs": [],
   "source": [
    "@viewer.bind_key('Shift-R', overwrite = \"True\")\n",
    "def visible_1(viewer):\n",
    "    point = viewer.layers.selection.active\n",
    "    celltype_selected = re.sub(\"-.*\", \"\", point.name)\n",
    "    df = cell_type[cell_type.cell_type == celltype_selected]\n",
    "    markers = df[\"marker\"].to_list()\n",
    "    if len(markers) > 3:\n",
    "        viewer.layers[markers[3]].visible = not viewer.layers[markers[3]].visible"
   ]
  },
  {
   "cell_type": "code",
   "execution_count": null,
   "id": "e5fcf5b6",
   "metadata": {},
   "outputs": [],
   "source": []
  },
  {
   "cell_type": "code",
   "execution_count": null,
   "id": "1dc09284",
   "metadata": {},
   "outputs": [],
   "source": [
    "@viewer.bind_key('Shift->', overwrite = \"True\")\n",
    "def down_contrast_start(viewer):\n",
    "    point = viewer.layers.selection.active\n",
    "    celltype_selected = re.sub(\"-.*\", \"\", point.name)\n",
    "    df = cell_type[cell_type.cell_type == celltype_selected]\n",
    "    markers = df[\"marker\"].to_list()\n",
    "    if len(markers) > 0:\n",
    "        increment = 50 + round(0.05 * viewer.layers[markers[0]].contrast_limits[0])\n",
    "        viewer.layers[markers[0]].contrast_limits = [max(0,  viewer.layers[markers[0]].contrast_limits[0] - increment),\n",
    "                                                     viewer.layers[markers[0]].contrast_limits[1]]"
   ]
  },
  {
   "cell_type": "code",
   "execution_count": null,
   "id": "54550fde",
   "metadata": {},
   "outputs": [],
   "source": [
    "@viewer.bind_key('Shift-Y', overwrite = \"True\")\n",
    "def down_contrast_stop(viewer):\n",
    "    point = viewer.layers.selection.active\n",
    "    celltype_selected = re.sub(\"-.*\", \"\", point.name)\n",
    "    df = cell_type[cell_type.cell_type == celltype_selected]\n",
    "    markers = df[\"marker\"].to_list()\n",
    "    if len(markers) > 0:\n",
    "        increment = 50 + round(0.05 * viewer.layers[markers[0]].contrast_limits[1])\n",
    "        viewer.layers[markers[0]].contrast_limits = [viewer.layers[markers[0]].contrast_limits[0],\n",
    "                                                     max(0, viewer.layers[markers[0]].contrast_limits[1] - increment)]"
   ]
  },
  {
   "cell_type": "code",
   "execution_count": null,
   "id": "6743b409",
   "metadata": {},
   "outputs": [],
   "source": []
  },
  {
   "cell_type": "code",
   "execution_count": null,
   "id": "92688864",
   "metadata": {},
   "outputs": [],
   "source": [
    "@viewer.bind_key('Ctrl-Shift->', overwrite = \"True\")\n",
    "def up_contrast_start(viewer):\n",
    "    point = viewer.layers.selection.active\n",
    "    celltype_selected = re.sub(\"-.*\", \"\", point.name)\n",
    "    df = cell_type[cell_type.cell_type == celltype_selected]\n",
    "    markers = df[\"marker\"].to_list()\n",
    "    if len(markers) > 0:\n",
    "        increment = 50 + round(0.05 * viewer.layers[markers[0]].contrast_limits[0])\n",
    "        viewer.layers[markers[0]].contrast_limits = [min(65000,  viewer.layers[markers[0]].contrast_limits[0] + increment),\n",
    "                                                     viewer.layers[markers[0]].contrast_limits[1]]"
   ]
  },
  {
   "cell_type": "code",
   "execution_count": null,
   "id": "ea3e1a9d",
   "metadata": {},
   "outputs": [],
   "source": [
    "@viewer.bind_key('Ctrl-Shift-Y', overwrite = \"True\")\n",
    "def up_contrast_end(viewer):\n",
    "    point = viewer.layers.selection.active\n",
    "    celltype_selected = re.sub(\"-.*\", \"\", point.name)\n",
    "    df = cell_type[cell_type.cell_type == celltype_selected]\n",
    "    markers = df[\"marker\"].to_list()\n",
    "    if len(markers) > 0:\n",
    "        increment = 50 + round(0.05 * viewer.layers[markers[0]].contrast_limits[1])\n",
    "        viewer.layers[markers[0]].contrast_limits = [viewer.layers[markers[0]].contrast_limits[0],\n",
    "                                                     min(65000, viewer.layers[markers[0]].contrast_limits[1] + increment)]"
   ]
  },
  {
   "cell_type": "code",
   "execution_count": null,
   "id": "f33e8acd",
   "metadata": {},
   "outputs": [],
   "source": [
    "@viewer.bind_key('Shift-D', overwrite = \"True\")\n",
    "def visible_1(viewer):\n",
    "    viewer.layers[\"DAPI\"].visible = not viewer.layers[\"DAPI\"].visible"
   ]
  },
  {
   "cell_type": "code",
   "execution_count": null,
   "id": "d47028ee",
   "metadata": {},
   "outputs": [],
   "source": [
    "@viewer.bind_key('Shift-X', overwrite = \"True\")\n",
    "def unvisible_all(viewer):\n",
    "    for layer in viewer.layers:\n",
    "        if (not \"-\" in layer.name) and (layer.name != \"background\")  and (layer.name != \"cell_types\"):\n",
    "            layer.visible = False"
   ]
  },
  {
   "cell_type": "code",
   "execution_count": null,
   "id": "628a4892",
   "metadata": {},
   "outputs": [],
   "source": [
    "@viewer.bind_key('Shift-C', overwrite = \"True\")\n",
    "def visible_all(viewer):\n",
    "    for layer in viewer.layers:\n",
    "        if (not \"-\" in layer.name) and (layer.name != \"background\")  and (layer.name != \"cell_types\"):\n",
    "            layer.visible = True"
   ]
  },
  {
   "cell_type": "code",
   "execution_count": null,
   "id": "5347d50a",
   "metadata": {},
   "outputs": [],
   "source": [
    "@viewer.bind_key('Shift-F', overwrite = \"True\")\n",
    "def visible_1(viewer):\n",
    "    viewer.layers[\"Cytokeratin\"].visible = not viewer.layers[\"Cytokeratin\"].visible"
   ]
  }
 ],
 "metadata": {
  "kernelspec": {
   "display_name": "Python 3 (ipykernel)",
   "language": "python",
   "name": "python3"
  },
  "language_info": {
   "codemirror_mode": {
    "name": "ipython",
    "version": 3
   },
   "file_extension": ".py",
   "mimetype": "text/x-python",
   "name": "python",
   "nbconvert_exporter": "python",
   "pygments_lexer": "ipython3",
   "version": "3.9.16"
  }
 },
 "nbformat": 4,
 "nbformat_minor": 5
}
