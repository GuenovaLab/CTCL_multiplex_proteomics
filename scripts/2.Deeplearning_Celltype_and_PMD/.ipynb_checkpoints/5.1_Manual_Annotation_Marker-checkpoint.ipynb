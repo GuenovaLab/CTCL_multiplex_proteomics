{
 "cells": [
  {
   "cell_type": "code",
   "execution_count": null,
   "id": "651f9c6c",
   "metadata": {},
   "outputs": [],
   "source": [
    "# Manual annotation of positive / negative markers\n",
    "# using napari\n",
    "# Saves annotations for each celtype as napari point label .csv (x,y positions)\n",
    "# authors: Pacome Prompsy\n",
    "# contact: pacome.prompsy@chuv.ch\n",
    "# Guenova Lab\n",
    "# CHUV (Centre Hospitalier Universitaire Vaudois), Lausanne, Suisse\n"
   ]
  },
  {
   "cell_type": "code",
   "execution_count": null,
   "id": "1aba8d49",
   "metadata": {},
   "outputs": [],
   "source": [
    "# this cell is required to run these notebooks on Binder\n",
    "# if running on Binder, remember to **WAIT 5 SECONDS** after\n",
    "# running the '%gui qt' cell below. If you get an error,\n",
    "# click on \"Kernel -> Restart\" and try again. Make sure also\n",
    "# that you have a desktop tab open.\n",
    "import os\n",
    "#if 'BINDER_SERVICE_HOST' in os.environ:\n",
    "#    os.environ['DISPLAY'] = ':1.0'"
   ]
  },
  {
   "cell_type": "code",
   "execution_count": null,
   "id": "24cb1dc9",
   "metadata": {},
   "outputs": [],
   "source": [
    "os.environ[\"QT_QPA_PLATFORM\"] = \"wayland\""
   ]
  },
  {
   "cell_type": "code",
   "execution_count": null,
   "id": "564a6a0a",
   "metadata": {},
   "outputs": [],
   "source": [
    "##############################################################################################################\n",
    "##############################################################################################################\n",
    "\n",
    "\n",
    "##############################################################################################################\n",
    "##############################################################################################################"
   ]
  },
  {
   "cell_type": "code",
   "execution_count": null,
   "id": "b60e902c",
   "metadata": {},
   "outputs": [],
   "source": []
  },
  {
   "cell_type": "code",
   "execution_count": null,
   "id": "c58bf9a7",
   "metadata": {},
   "outputs": [],
   "source": [
    "import os\n",
    "import pandas as pd\n",
    "import numpy as np\n",
    "from tifffile import imread\n",
    "import random\n",
    "import re\n",
    "\n",
    "%gui qt"
   ]
  },
  {
   "cell_type": "code",
   "execution_count": null,
   "id": "3342dcd8",
   "metadata": {},
   "outputs": [],
   "source": [
    "import napari\n",
    "from napari.utils import nbscreenshot\n",
    "\n",
    "# Create an empty viewer\n",
    "viewer = napari.Viewer()"
   ]
  },
  {
   "cell_type": "code",
   "execution_count": null,
   "id": "de253d3f",
   "metadata": {},
   "outputs": [],
   "source": [
    "# Change below\n",
    "output_dir = \"../output/manual_annotation_marker2/\"\n",
    "tiff_dir = \"../output/input/\"\n",
    "segmentation_dir  = \"../output/segmentation/\"\n",
    "marker_file  = \"../annotation/marker_metadata.csv\"\n"
   ]
  },
  {
   "cell_type": "code",
   "execution_count": null,
   "id": "2c5f214f",
   "metadata": {},
   "outputs": [],
   "source": [
    "marker_df = pd.read_csv(os.path.join(marker_file))\n",
    "marker_unique = marker_df.Marker[(marker_df.Marker != \"DAPI\") & (marker_df.PassOverallQuality == True)]\n",
    "marker_unique = marker_unique.values\n"
   ]
  },
  {
   "cell_type": "code",
   "execution_count": null,
   "id": "82e517cc",
   "metadata": {},
   "outputs": [],
   "source": []
  },
  {
   "cell_type": "code",
   "execution_count": null,
   "id": "15ba374e",
   "metadata": {},
   "outputs": [],
   "source": [
    "# CHANGE HERE SAMPLE :\n",
    "samples = [\"ROI-30\",\"ROI-40\",\"ROI-50\",\"ROI-60\"]\n",
    "sample = samples[0]\n",
    "markers = [\"Cytokeratin\"]\n",
    "marker = markers[0]\n",
    "name = \"Annotator1\"\n",
    "range_sample = -1\n"
   ]
  },
  {
   "cell_type": "code",
   "execution_count": null,
   "id": "69f62b3c",
   "metadata": {},
   "outputs": [],
   "source": []
  },
  {
   "cell_type": "code",
   "execution_count": null,
   "id": "5cebfbd3",
   "metadata": {},
   "outputs": [],
   "source": [
    "@viewer.bind_key('Ctrl-Shift-L', overwrite = \"True\")\n",
    "def visible_1(viewer):\n",
    "    \n",
    "    print(\"Saving...\")\n",
    "    global sample\n",
    "    global range_sample\n",
    "\n",
    "    save_dir = os.path.join(output_dir, sample + \"-\" + name )FFFF\n",
    "    \n",
    "    if not os.path.exists(save_dir):\n",
    "        os.makedirs(save_dir)\n",
    "\n",
    "    if marker + \"+\" in viewer.layers:\n",
    "        viewer.layers[marker + \"+\"].save(os.path.join( save_dir, marker + \"+\" + '.csv'));\n",
    "        viewer.layers.remove(value = marker + \"+\")\n",
    "    if marker + \"-\" in viewer.layers:\n",
    "        viewer.layers[marker + \"-\"].save(os.path.join( save_dir, marker + \"-\" + '.csv'));\n",
    "        viewer.layers.remove(value = marker + \"-\")\n",
    "    if sample + \"-\" + marker in viewer.layers:\n",
    "        viewer.layers.remove(value = sample + \"-\" + marker)\n",
    "        \n",
    "    range_sample = range_sample + 1\n",
    "    sample = samples[range_sample]\n",
    "    \n",
    "    DAPI = imread(os.path.join(os.path.join(tiff_dir, sample, \"DAPI.tiff\")))\n",
    "    viewer.add_image(DAPI, name=\"DAPI\", colormap=\"bop blue\",contrast_limits=[5000, 65000]);\n",
    "\n",
    "    if sample + \"-\" + marker not in viewer.layers:\n",
    "\n",
    "        image = imread(os.path.join(os.path.join(tiff_dir, sample, marker + \".tiff\")))\n",
    "        \n",
    "        if sample in [\"ROI-01\", \"ROI-10\", \"ROI-20\"]:\n",
    "            contrast_limits=[marker_df.ContrastRange_min[marker_df.Marker == marker].values[0],\n",
    "                                          marker_df.ContrastRange_max[marker_df.Marker == marker].values[0]]\n",
    "        else:\n",
    "            contrast_limits=[marker_df.ContrastRange_min_20230601[marker_df.Marker == marker].values[0],\n",
    "                                          marker_df.ContrastRange_max_20230601[marker_df.Marker == marker].values[0]]\n",
    "        \n",
    "        viewer.add_image(image, name=sample + \"-\" + marker, blending= \"additive\",\n",
    "                         contrast_limits=contrast_limits);\n",
    "        viewer.add_points(name= marker + \"-\", face_color = \"red\",\n",
    "                      edge_color = \"#d4c51bff\", edge_width=0.1, opacity=1, size = 30);\n",
    "        viewer.layers[marker + \"-\"].mode = \"add\"\n",
    "        viewer.add_points(name= marker + \"+\", face_color = \"green\",\n",
    "                      edge_color = \"#d4c51bff\", edge_width=0.1, opacity=1, size = 30);\n",
    "        viewer.layers[marker + \"+\"].mode = \"add\"\n",
    "\n",
    "\n",
    "    if \"cell_types\" in viewer.layers:\n",
    "        viewer.layers.remove(value=\"cell_types\")\n",
    "\n",
    "    segmentation = imread(os.path.join(os.path.join(segmentation_dir, sample + \"_whole_cell_segmentation_borders.tiff\")))\n",
    "    viewer.add_image(segmentation, name=\"cell_types\", colormap = \"red\", blending = \"additive\");\n",
    "\n"
   ]
  },
  {
   "cell_type": "code",
   "execution_count": null,
   "id": "6458c1f5",
   "metadata": {},
   "outputs": [],
   "source": [
    "marker_df.ContrastRange_max[marker_df.Marker == marker].values[0]"
   ]
  },
  {
   "cell_type": "code",
   "execution_count": null,
   "id": "b99fbdb9",
   "metadata": {},
   "outputs": [],
   "source": [
    "@viewer.bind_key('Shift-S', overwrite = \"True\")\n",
    "def save_all(viewer):\n",
    "    save_dir = os.path.join(output_dir, sample + \"-\" + name )\n",
    "    print(\"Saving...\")\n",
    "    for marker in markers:\n",
    "        if marker + \"+\" in viewer.layers:\n",
    "            viewer.layers[marker + \"+\"].save(os.path.join( save_dir, marker + \"+\" + '.csv'));\n",
    "        if marker + \"-\" in viewer.layers:\n",
    "            viewer.layers[marker + \"-\"].save(os.path.join( save_dir, marker + \"-\" + '.csv'));"
   ]
  },
  {
   "cell_type": "code",
   "execution_count": null,
   "id": "5d712e30",
   "metadata": {},
   "outputs": [],
   "source": []
  },
  {
   "cell_type": "code",
   "execution_count": null,
   "id": "25df925e",
   "metadata": {},
   "outputs": [],
   "source": []
  },
  {
   "cell_type": "code",
   "execution_count": null,
   "id": "4b6952f9",
   "metadata": {},
   "outputs": [],
   "source": []
  },
  {
   "cell_type": "code",
   "execution_count": null,
   "id": "7cce0e3d",
   "metadata": {},
   "outputs": [],
   "source": [
    "@viewer.bind_key('Shift->', overwrite = \"True\")\n",
    "def down_contrast_start(viewer):\n",
    "    point = viewer.layers.selection.active\n",
    "    marker = re.sub(\"-|\\+\", \"\", point.name)\n",
    "    if marker in viewer.layers:\n",
    "        increment = 50 + round(0.05 * viewer.layers[marker].contrast_limits[0])\n",
    "        viewer.layers[marker].contrast_limits = [max(0,  viewer.layers[marker].contrast_limits[0] - increment),\n",
    "                                                     viewer.layers[marker].contrast_limits[1]]"
   ]
  },
  {
   "cell_type": "code",
   "execution_count": null,
   "id": "46fb999f",
   "metadata": {},
   "outputs": [],
   "source": [
    "@viewer.bind_key('Shift-Y', overwrite = \"True\")\n",
    "def down_contrast_start(viewer):\n",
    "    point = viewer.layers.selection.active\n",
    "    marker = re.sub(\"-|\\+\", \"\", point.name)\n",
    "    if marker in viewer.layers:\n",
    "        increment = 50 + round(0.05 * viewer.layers[marker].contrast_limits[0])\n",
    "        viewer.layers[marker].contrast_limits = [viewer.layers[marker].contrast_limits[0],\n",
    "                                                     max(viewer.layers[marker].contrast_limits[0] + 10,  viewer.layers[marker].contrast_limits[1]  - increment)]"
   ]
  },
  {
   "cell_type": "code",
   "execution_count": null,
   "id": "b7dd661e",
   "metadata": {},
   "outputs": [],
   "source": [
    "@viewer.bind_key('Ctrl-Shift->', overwrite = \"True\")\n",
    "def down_contrast_start(viewer):\n",
    "    point = viewer.layers.selection.active\n",
    "    marker = re.sub(\"-|\\+\", \"\", point.name)\n",
    "    if marker in viewer.layers:\n",
    "        increment = 50 + round(0.05 * viewer.layers[marker].contrast_limits[0])\n",
    "        viewer.layers[marker].contrast_limits = [min(viewer.layers[marker].contrast_limits[1]-10,  viewer.layers[marker].contrast_limits[0] + increment),\n",
    "                                                     viewer.layers[marker].contrast_limits[1]]"
   ]
  },
  {
   "cell_type": "code",
   "execution_count": null,
   "id": "18fbc7c0",
   "metadata": {},
   "outputs": [],
   "source": [
    "@viewer.bind_key('Ctrl-Shift-Y', overwrite = \"True\")\n",
    "def down_contrast_start(viewer):\n",
    "    point = viewer.layers.selection.active\n",
    "    print(point.name)\n",
    "    marker = re.sub(\"-|\\+\", \"\", point.name)\n",
    "    print(marker)\n",
    "    if marker in viewer.layers:\n",
    "        increment = 50 + round(0.05 * viewer.layers[marker].contrast_limits[0])\n",
    "        viewer.layers[marker].contrast_limits = [viewer.layers[marker].contrast_limits[0],\n",
    "                                                     min(65000,  viewer.layers[marker].contrast_limits[1]  + increment)]"
   ]
  },
  {
   "cell_type": "code",
   "execution_count": null,
   "id": "46dd9004",
   "metadata": {},
   "outputs": [],
   "source": [
    "@viewer.bind_key('Shift-D', overwrite = \"True\")\n",
    "def visible_1(viewer):\n",
    "    viewer.layers[\"DAPI\"].visible = not viewer.layers[\"DAPI\"].visible"
   ]
  },
  {
   "cell_type": "code",
   "execution_count": null,
   "id": "f7995bfd",
   "metadata": {},
   "outputs": [],
   "source": [
    "@viewer.bind_key('Shift-X', overwrite = \"True\")\n",
    "def unvisible_all(viewer):\n",
    "    for layer in viewer.layers:\n",
    "        if (not \"-\" in layer.name) and (not \"+\" in layer.name) and (layer.name != \"background\")  and (layer.name != \"cell_types\"):\n",
    "            layer.visible = False"
   ]
  },
  {
   "cell_type": "code",
   "execution_count": null,
   "id": "23ad88cd",
   "metadata": {},
   "outputs": [],
   "source": [
    "@viewer.bind_key('Shift-F', overwrite = \"True\")\n",
    "def visible_1(viewer):\n",
    "    print(sample)\n",
    "    viewer.layers[sample + \"-\" + marker].visible = not viewer.layers[sample + \"-\" + marker].visible"
   ]
  },
  {
   "cell_type": "code",
   "execution_count": null,
   "id": "3b373218",
   "metadata": {},
   "outputs": [],
   "source": []
  },
  {
   "cell_type": "raw",
   "id": "5ed65ed5",
   "metadata": {},
   "source": []
  }
 ],
 "metadata": {
  "kernelspec": {
   "display_name": "Python 3 (ipykernel)",
   "language": "python",
   "name": "python3"
  },
  "language_info": {
   "codemirror_mode": {
    "name": "ipython",
    "version": 3
   },
   "file_extension": ".py",
   "mimetype": "text/x-python",
   "name": "python",
   "nbconvert_exporter": "python",
   "pygments_lexer": "ipython3",
   "version": "3.9.16"
  }
 },
 "nbformat": 4,
 "nbformat_minor": 5
}
