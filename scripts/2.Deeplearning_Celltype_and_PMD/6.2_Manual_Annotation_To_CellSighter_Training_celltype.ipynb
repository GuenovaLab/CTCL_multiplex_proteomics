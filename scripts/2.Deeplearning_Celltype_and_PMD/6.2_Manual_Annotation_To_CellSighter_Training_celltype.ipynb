{
 "cells": [
  {
   "cell_type": "code",
   "execution_count": null,
   "id": "05760ece",
   "metadata": {},
   "outputs": [],
   "source": [
    "# Associate manual annotation of celltypes (x,y positions)\n",
    "# to single cells\n",
    "# Run training using CellSighter\n",
    "# authors: Pacome Prompsy\n",
    "# contact: pacome.prompsy@chuv.ch\n",
    "# Guenova Lab\n",
    "# CHUV (Centre Hospitalier Universitaire Vaudois), Lausanne, Suisse\n"
   ]
  },
  {
   "cell_type": "code",
   "execution_count": null,
   "id": "260e5d53",
   "metadata": {},
   "outputs": [],
   "source": [
    "import sys\n",
    "sys.path.append(\".\")\n",
    "import os\n",
    "import argparse\n",
    "import numpy as np\n",
    "import json\n",
    "import os\n",
    "import pandas as pd\n",
    "import numpy as np\n",
    "from tifffile import imread\n",
    "import random\n",
    "import tifffile\n",
    "from scipy.spatial.distance import cdist\n"
   ]
  },
  {
   "cell_type": "code",
   "execution_count": null,
   "id": "2a3273b2",
   "metadata": {},
   "outputs": [],
   "source": []
  },
  {
   "cell_type": "code",
   "execution_count": null,
   "id": "66e2f111",
   "metadata": {},
   "outputs": [],
   "source": [
    "output_dir = \"../output/CellSighter\"\n",
    "cell_marker_file = \"../annotation/cell_markers.csv\"\n",
    "tiff_dir = \"../output/input/\"\n",
    "segmentation_dir  = \"../output/segmentation/\"\n",
    "cell_table_dir  = \"../output/cell_table/\""
   ]
  },
  {
   "cell_type": "code",
   "execution_count": null,
   "id": "a8c00120",
   "metadata": {},
   "outputs": [],
   "source": [
    "sample = \"ROI-15\"\n",
    "annotator = \"Annotator1\"\n",
    "if len(annotator) > 0:\n",
    "    name = sample + \"-\" + annotator\n",
    "else:\n",
    "    name = sample + \"-\" \n",
    "annotation_dir = \"../output/CellSighter/manual_annotation_celltype/\" + name"
   ]
  },
  {
   "cell_type": "code",
   "execution_count": null,
   "id": "2eca82da",
   "metadata": {},
   "outputs": [],
   "source": [
    "cell_type = pd.read_csv(os.path.join(cell_marker_file))\n",
    "\n",
    "cell_types_unique = cell_type.cell_type[np.sort(np.unique(cell_type.cell_type, return_index=True)[1])]\n",
    "cell_types_unique = np.flip(cell_types_unique)\n",
    "\n",
    "marker_unique = cell_type.marker[np.sort(np.unique(cell_type.marker, return_index=True)[1])]\n",
    "marker_unique = np.flip(marker_unique)"
   ]
  },
  {
   "cell_type": "code",
   "execution_count": null,
   "id": "4b8e71fa",
   "metadata": {},
   "outputs": [],
   "source": [
    "image = imread(os.path.join(tiff_dir, sample, \"DAPI.tiff\"))\n"
   ]
  },
  {
   "cell_type": "code",
   "execution_count": null,
   "id": "1aefbfc6",
   "metadata": {},
   "outputs": [],
   "source": [
    "if not os.path.exists(output_dir):\n",
    "    os.makedirs(output_dir)\n",
    "base_dir = os.path.join(output_dir, \"cell_classification\")\n",
    "if not os.path.exists(base_dir):\n",
    "    os.makedirs(base_dir)\n",
    "cellType_dir = os.path.join(base_dir, \"CellTypes\")\n",
    "if not os.path.exists(cellType_dir):\n",
    "    os.makedirs(cellType_dir)\n",
    "cells_dir = os.path.join(cellType_dir, \"cells\")\n",
    "if not os.path.exists(cells_dir):\n",
    "    os.makedirs(cells_dir)\n",
    "cells2labels_dir = os.path.join(cellType_dir, \"cells2labels\")\n",
    "if not os.path.exists(cells2labels_dir):\n",
    "    os.makedirs(cells2labels_dir)\n",
    "data_dir = os.path.join(cellType_dir, \"data\")\n",
    "if not os.path.exists(data_dir):\n",
    "    os.makedirs(data_dir)\n",
    "images_dir =  os.path.join(data_dir, \"images\")\n",
    "if not os.path.exists(images_dir):\n",
    "    os.makedirs(images_dir)    \n"
   ]
  },
  {
   "cell_type": "code",
   "execution_count": null,
   "id": "1b321803",
   "metadata": {},
   "outputs": [],
   "source": [
    "# Load segmentation \n",
    "whole_cell = imread(os.path.join(segmentation_dir, sample + \"_whole_cell.tiff\"))\n",
    "\n",
    "# Save in the \"cells\" folder\n",
    "np.savez(os.path.join(cells_dir, name +\".npz\"), data = whole_cell)"
   ]
  },
  {
   "cell_type": "code",
   "execution_count": null,
   "id": "afe8c864",
   "metadata": {},
   "outputs": [],
   "source": [
    "# Load the labels\n",
    "csv_files = [f for f in os.listdir(annotation_dir) if f.endswith('.csv')]\n",
    "dfs = []\n",
    "for csv_file in csv_files:\n",
    "    # Read the CSV file into a dataframe\n",
    "    df = pd.read_csv(os.path.join(annotation_dir, csv_file))\n",
    "    \n",
    "    # Get the cell type from the file name\n",
    "    cell_type = os.path.basename(csv_file).split('-')[0]\n",
    "    \n",
    "    # Add a column for the cell type\n",
    "    df['cell_type'] = cell_type\n",
    "    \n",
    "    # Append the dataframe to the list of dataframes\n",
    "    dfs.append(df)\n",
    "result_df = pd.concat(dfs, ignore_index=True)\n"
   ]
  },
  {
   "cell_type": "code",
   "execution_count": null,
   "id": "cd2719d7",
   "metadata": {},
   "outputs": [],
   "source": [
    "# Reading the cell centroids\n",
    "cells = pd.read_csv(os.path.join(cell_table_dir, sample + \"_cell_table_size_normalized.csv.gz\"))\n"
   ]
  },
  {
   "cell_type": "code",
   "execution_count": null,
   "id": "b3a21e8b",
   "metadata": {},
   "outputs": [],
   "source": [
    "# Get a list of unique cell types in the result dataframe\n",
    "cell_types = result_df['cell_type'].unique()\n"
   ]
  },
  {
   "cell_type": "code",
   "execution_count": null,
   "id": "98100a91",
   "metadata": {},
   "outputs": [],
   "source": [
    "cell_types"
   ]
  },
  {
   "cell_type": "code",
   "execution_count": null,
   "id": "bd8778f9",
   "metadata": {},
   "outputs": [],
   "source": [
    "cells[\"cell_type\"] = \"\""
   ]
  },
  {
   "cell_type": "code",
   "execution_count": null,
   "id": "d916b17b",
   "metadata": {},
   "outputs": [],
   "source": [
    "# Loop through each cell in the \"cells\" dataframe\n",
    "for i, row in result_df.iterrows():\n",
    "    # Extract the x and y coordinates of the cell centroid\n",
    "    point_x, point_y, cell_class = row[\"axis-0\"], row[\"axis-1\"], row[\"cell_type\"]\n",
    "    \n",
    "    # Initialize a dictionary to store the distances to the closest point in each cell type\n",
    "    distances = {}\n",
    "    \n",
    "    # Loop through each cell type in the \"result_df\" dataframe\n",
    "    \n",
    "    # Filter the \"result_df\" dataframe to include only the points for the current cell type\n",
    "    cells_locations = cells[['centroid-0', 'centroid-1', 'label']].values\n",
    "    cells_locations = cells_locations[((cells_locations[...,0] > point_x - 200) & (cells_locations[...,0] < point_x + 200)) &\n",
    "                             ((cells_locations[...,1] > point_y - 200) & (cells_locations[...,1] < point_y + 200))]\n",
    "    \n",
    "    if cells_locations.shape[0] > 0:\n",
    "        # Compute the distances from the cell centroid to each point in the filtered dataframe\n",
    "        cell_distances = cdist([[point_x, point_y]], cells_locations[...,0:2]).flatten()\n",
    "        label = cells_locations[np.where(cell_distances==np.min(cell_distances))[0][0],2]\n",
    "        \n",
    "        # Add the closest cell type\n",
    "        if np.min(cell_distances) < 150: \n",
    "            cells.loc[(cells.label == label),\"cell_type\"] = cell_class\n"
   ]
  },
  {
   "cell_type": "code",
   "execution_count": null,
   "id": "354105f5",
   "metadata": {},
   "outputs": [],
   "source": []
  },
  {
   "cell_type": "code",
   "execution_count": null,
   "id": "c80a45a4",
   "metadata": {},
   "outputs": [],
   "source": [
    "cells_df = cells[[\"fov\",\"label\", \"cell_type\"]]\n",
    "cells_df.to_csv(\"../output/CellSighter/celltype/Predictions/\" + name + \"_true_labels.csv\")"
   ]
  },
  {
   "cell_type": "code",
   "execution_count": null,
   "id": "40a2edf0",
   "metadata": {
    "scrolled": true
   },
   "outputs": [],
   "source": [
    "# Retrieve only cropped cells, set to -1 others.\n",
    "unique_strings = set(cells[\"cell_type\"])\n",
    "string_to_int = {\n",
    " \"\":-1,\n",
    " \"Macrophages\":0,\n",
    " \"APC\":1,\n",
    " \"B_cell\":2,\n",
    " \"T_regulatory\":3,\n",
    " \"Monocytes\":4,\n",
    " \"Neutrophils\":5,\n",
    " \"NKT\":6,\n",
    " \"Keratinocyte\":7,\n",
    " \"Leukocyte\":8,\n",
    " \"Endothelial\":9,\n",
    " \"T_cytotoxic\":10,\n",
    " \"pDC\":11,\n",
    " \"T_helper\":12,\n",
    " \"Fibroblast\":13,\n",
    " \"Lymphatic\":14,\n",
    " \"Basophil\":15,\n",
    " \"Monocytic_Lineage\":16\n",
    "                }\n",
    "cell_type_int = [string_to_int[s] for s in cells[\"cell_type\"]]\n",
    "cells[\"cell_type_int\"] = cell_type_int\n"
   ]
  },
  {
   "cell_type": "code",
   "execution_count": null,
   "id": "5924e112",
   "metadata": {},
   "outputs": [],
   "source": [
    "labels = np.zeros(int(max(cells.label)) + 1)\n",
    "for i in range(len(labels)):\n",
    "    labels[i] = -1\n",
    "idx = [int(item) for item in cells[\"label\"].to_list()]\n",
    "labels[idx] = cells[\"cell_type_int\"]\n",
    "\n",
    "# Save as npz in the \"data\" folder\n",
    "np.savez(os.path.join(cells2labels_dir,  name + \".npz\"), data = labels)"
   ]
  },
  {
   "cell_type": "code",
   "execution_count": null,
   "id": "6c8e8381",
   "metadata": {
    "scrolled": true
   },
   "outputs": [],
   "source": [
    "cells2labels_dir = '../output/CellSighter/celltype/cell_classification/CellTypes/cells2labels'"
   ]
  },
  {
   "cell_type": "code",
   "execution_count": null,
   "id": "0e47c172",
   "metadata": {},
   "outputs": [],
   "source": [
    "# Copy full markers images\n",
    "\n",
    "all_markers = []\n",
    "# Load the markers \n",
    "for marker in marker_unique:\n",
    "    # Load segmentation \n",
    "    marker_image = imread(os.path.join(tiff_dir, sample, marker + \".tiff\"))\n",
    "    \n",
    "    # Save in the \"cells\" folder\n",
    "    all_markers.append(marker_image)\n",
    "    \n",
    "\n",
    "# Combine\n",
    "all_markers = np.array(all_markers)\n",
    "all_markers = np.transpose(all_markers, (1, 2, 0))\n",
    "\n",
    "# Save as npz in the \"data\" folder\n",
    "\n",
    "np.savez(os.path.join(images_dir,  name + \".npz\"),  data = all_markers)"
   ]
  },
  {
   "cell_type": "code",
   "execution_count": null,
   "id": "ac0c7c89",
   "metadata": {},
   "outputs": [],
   "source": []
  }
 ],
 "metadata": {
  "kernelspec": {
   "display_name": "Python 3 (ipykernel)",
   "language": "python",
   "name": "python3"
  },
  "language_info": {
   "codemirror_mode": {
    "name": "ipython",
    "version": 3
   },
   "file_extension": ".py",
   "mimetype": "text/x-python",
   "name": "python",
   "nbconvert_exporter": "python",
   "pygments_lexer": "ipython3",
   "version": "3.9.16"
  }
 },
 "nbformat": 4,
 "nbformat_minor": 5
}
